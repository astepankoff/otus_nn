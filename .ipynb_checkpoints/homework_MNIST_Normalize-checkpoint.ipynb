{
 "cells": [
  {
   "cell_type": "code",
   "execution_count": 1,
   "metadata": {},
   "outputs": [],
   "source": [
    "import torch\n",
    "from torch import utils\n",
    "from torchvision import datasets, transforms\n",
    "\n",
    "import matplotlib\n",
    "import matplotlib.pyplot as plt\n",
    "import numpy as np\n",
    "%matplotlib inline"
   ]
  },
  {
   "cell_type": "code",
   "execution_count": 2,
   "metadata": {},
   "outputs": [],
   "source": [
    "def plot_mnist(images, shape):\n",
    "    fig = plt.figure(figsize=shape[::-1], dpi=80)\n",
    "    for j in range(1, len(images) + 1):\n",
    "        ax = fig.add_subplot(shape[0], shape[1], j)\n",
    "        ax.matshow(images[j - 1][0], cmap = matplotlib.cm.binary)\n",
    "        plt.xticks(np.array([]))\n",
    "        plt.yticks(np.array([]))\n",
    "    plt.show()"
   ]
  },
  {
   "cell_type": "code",
   "execution_count": 3,
   "metadata": {},
   "outputs": [],
   "source": [
    "path='./MNIST_data'"
   ]
  },
  {
   "cell_type": "code",
   "execution_count": 4,
   "metadata": {},
   "outputs": [],
   "source": [
    "# загрузка данных без нормализации и расчет mean и std\n",
    "mnist_transform = transforms.Compose([\n",
    "                transforms.ToTensor()\n",
    "           ])\n",
    "\n",
    "train_data = datasets.MNIST(path, train=True, download=True, transform=mnist_transform)\n",
    "test_data = datasets.MNIST(path, train=False, download=True, transform=mnist_transform)"
   ]
  },
  {
   "cell_type": "code",
   "execution_count": 7,
   "metadata": {},
   "outputs": [],
   "source": [
    "# получение mean и std для нормировки\n",
    "#mean = np.mean([train_data[i][0].numpy() for i in range(train_data.data.shape[0])])\n",
    "#std = np.std([train_data[i][0].numpy() for i in range(train_data.data.shape[0])])\n",
    "\n",
    "#mean, std"
   ]
  },
  {
   "cell_type": "code",
   "execution_count": 8,
   "metadata": {},
   "outputs": [
    {
     "data": {
      "text/plain": [
       "(0.1306604762738429, 0.30810780385646264)"
      ]
     },
     "execution_count": 8,
     "metadata": {},
     "output_type": "execute_result"
    }
   ],
   "source": [
    "# получение mean и std для нормировки без цикла\n",
    "# оказывается train_data.data и train_data.train_data нормированны от 0 до 255 (видимо это исходные данные, так как они не меняются при transform)\n",
    "# а train_data[..][..] по умолчанию нормируются от 0 до 1\n",
    "\n",
    "mean = train_data.data.numpy().mean()/255\n",
    "std = train_data.data.numpy().std()/255\n",
    "\n",
    "mean, std"
   ]
  },
  {
   "cell_type": "code",
   "execution_count": 11,
   "metadata": {},
   "outputs": [],
   "source": [
    "# transform, с полученными значениями для нормализации\n",
    "mnist_transform = transforms.Compose([\n",
    "                transforms.ToTensor(),\n",
    "                transforms.Normalize((mean,), (std,)),\n",
    "           ])\n",
    "\n",
    "train_data = datasets.MNIST(path, train=True, download=False, transform=mnist_transform)\n",
    "test_data = datasets.MNIST(path, train=False, download=False, transform=mnist_transform)"
   ]
  },
  {
   "cell_type": "code",
   "execution_count": 53,
   "metadata": {},
   "outputs": [
    {
     "data": {
      "text/plain": [
       "(3.3886092e-08, 0.9999994)"
      ]
     },
     "execution_count": 53,
     "metadata": {},
     "output_type": "execute_result"
    }
   ],
   "source": [
    "#проверка\n",
    "mean = np.mean([train_data[i][0].numpy() for i in range(train_data.data.shape[0])])\n",
    "std = np.std([train_data[i][0].numpy() for i in range(train_data.data.shape[0])])\n",
    "\n",
    "mean, std"
   ]
  },
  {
   "cell_type": "code",
   "execution_count": null,
   "metadata": {},
   "outputs": [],
   "source": []
  }
 ],
 "metadata": {
  "kernelspec": {
   "display_name": "Python 3",
   "language": "python",
   "name": "python3"
  },
  "language_info": {
   "codemirror_mode": {
    "name": "ipython",
    "version": 3
   },
   "file_extension": ".py",
   "mimetype": "text/x-python",
   "name": "python",
   "nbconvert_exporter": "python",
   "pygments_lexer": "ipython3",
   "version": "3.6.5"
  },
  "toc": {
   "base_numbering": 1,
   "nav_menu": {},
   "number_sections": true,
   "sideBar": true,
   "skip_h1_title": false,
   "title_cell": "Table of Contents",
   "title_sidebar": "Contents",
   "toc_cell": false,
   "toc_position": {},
   "toc_section_display": true,
   "toc_window_display": false
  }
 },
 "nbformat": 4,
 "nbformat_minor": 2
}
